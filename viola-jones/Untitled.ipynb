{
 "cells": [
  {
   "cell_type": "code",
   "execution_count": 2,
   "id": "5446136d-8a81-42c9-9407-c68bd2b14c0d",
   "metadata": {
    "tags": []
   },
   "outputs": [
    {
     "name": "stdout",
     "output_type": "stream",
     "text": [
      "['i1.jpg', 'clase.png', 'cbcl_test_nofaces_19x19g.npy', 'cbcl_train_nofaces_19x19g.npy', 'judybats.jpg', 'cbcl_train_faces_19x19g.npy', 'cbcl_test_faces_19x19g.npy', 'test.jpg', 'physics.jpg', 'people.png']\n"
     ]
    }
   ],
   "source": [
    "import os\n",
    "print(os.listdir('/home/jovyan/work/Projet/viola-jones/datasets'))\n"
   ]
  },
  {
   "cell_type": "code",
   "execution_count": null,
   "id": "f27109ab-e404-49b7-b748-ec17ae49abda",
   "metadata": {},
   "outputs": [],
   "source": []
  }
 ],
 "metadata": {
  "kernelspec": {
   "display_name": "Python 3 (ipykernel)",
   "language": "python",
   "name": "python3"
  },
  "language_info": {
   "codemirror_mode": {
    "name": "ipython",
    "version": 3
   },
   "file_extension": ".py",
   "mimetype": "text/x-python",
   "name": "python",
   "nbconvert_exporter": "python",
   "pygments_lexer": "ipython3",
   "version": "3.10.12"
  }
 },
 "nbformat": 4,
 "nbformat_minor": 5
}
